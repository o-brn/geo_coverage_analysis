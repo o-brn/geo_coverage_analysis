{
 "cells": [
  {
   "cell_type": "code",
   "execution_count": 1,
   "id": "47c29741",
   "metadata": {},
   "outputs": [],
   "source": [
    "import geobr"
   ]
  },
  {
   "cell_type": "code",
   "execution_count": null,
   "id": "a20222b5",
   "metadata": {},
   "outputs": [],
   "source": [
    "# Download dados MT\n",
    "estado_mt = geobr.read_state(code_state=\"MT\", year=2020, simplified=False)"
   ]
  },
  {
   "cell_type": "code",
   "execution_count": null,
   "id": "f573d87d",
   "metadata": {},
   "outputs": [],
   "source": [
    "# Dados de todos os municípios\n",
    "municipios_mt = geobr.read_municipality(code_muni=\"MT\", year=2020, simplified=False)"
   ]
  },
  {
   "cell_type": "code",
   "execution_count": 6,
   "id": "8e8b99e1",
   "metadata": {},
   "outputs": [
    {
     "name": "stdout",
     "output_type": "stream",
     "text": [
      "EPSG:4674\n"
     ]
    }
   ],
   "source": [
    "# Olhando o CRS (sitema de coordenadas)\n",
    "print(municipios_mt.crs)"
   ]
  },
  {
   "cell_type": "code",
   "execution_count": 8,
   "id": "f4fe106f",
   "metadata": {},
   "outputs": [],
   "source": [
    "# Mudando as coordenadas\n",
    "crs_projetado = \"EPSG:5880\"\n",
    "\n",
    "estado_mt_proj = estado_mt.to_crs(crs_projetado)\n",
    "municipios_mt_proj = municipios_mt.to_crs(crs_projetado)"
   ]
  },
  {
   "cell_type": "code",
   "execution_count": 9,
   "id": "b75512a8",
   "metadata": {},
   "outputs": [
    {
     "name": "stdout",
     "output_type": "stream",
     "text": [
      "EPSG:5880\n"
     ]
    }
   ],
   "source": [
    "print(municipios_mt_proj.crs)"
   ]
  },
  {
   "cell_type": "code",
   "execution_count": null,
   "id": "33494f7c",
   "metadata": {},
   "outputs": [],
   "source": []
  }
 ],
 "metadata": {
  "kernelspec": {
   "display_name": "cobertura_geo",
   "language": "python",
   "name": "python3"
  },
  "language_info": {
   "codemirror_mode": {
    "name": "ipython",
    "version": 3
   },
   "file_extension": ".py",
   "mimetype": "text/x-python",
   "name": "python",
   "nbconvert_exporter": "python",
   "pygments_lexer": "ipython3",
   "version": "3.11.7"
  }
 },
 "nbformat": 4,
 "nbformat_minor": 5
}
